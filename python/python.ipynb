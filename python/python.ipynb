{
 "cells": [
  {
   "cell_type": "markdown",
   "metadata": {},
   "source": [
    "# Python assesment"
   ]
  },
  {
   "cell_type": "code",
   "execution_count": 2,
   "metadata": {},
   "outputs": [],
   "source": [
    "import pandas as pd\n",
    "import numpy as np"
   ]
  },
  {
   "cell_type": "markdown",
   "metadata": {},
   "source": [
    "#### Question - 1"
   ]
  },
  {
   "cell_type": "code",
   "execution_count": 8,
   "metadata": {},
   "outputs": [
    {
     "name": "stdout",
     "output_type": "stream",
     "text": [
      "{'yz': 'you are finally here !!!', 'abc': ['yz'], 'def': ['ghi', 'jkl', 'mno', 'pqr', 'stu', 'vwx', 'yz'], 'ghi': ['jkl', 'mno', 'pqr', 'stu', 'vwx', 'yz'], 'jkl': ['mno', 'pqr', 'stu', 'vwx', 'yz'], 'mno': ['pqr', 'stu', 'vwx', 'yz'], 'pqr': ['stu', 'vwx', 'yz'], 'stu': ['vwx', 'yz'], 'vwx': ['yz']}\n"
     ]
    }
   ],
   "source": [
    "# define a function to give a new dict of new style\n",
    "def generate_new_dict(input_dict):\n",
    "    #create a empty dict\n",
    "    output_dict={}\n",
    "    #create a function to travers the keys and values \n",
    "    def travers_dict(d,keys=[]):\n",
    "        #iterate through the key and value\n",
    "        for key,value in d.items():\n",
    "            # appending new key to key list\n",
    "            new_keys=keys+[key]\n",
    "            \n",
    "            # check the value is a dict or not if yes then do the travers_dict function\n",
    "            if isinstance(value,dict):\n",
    "                travers_dict(value,new_keys)\n",
    "                \n",
    "            else:\n",
    "                #if not a dict then assign leaf value to the new keys \n",
    "                output_dict[new_keys[-1]] =value\n",
    "                output_dict[new_keys[0]]  = [new_keys[-1]] \n",
    "                \n",
    "                for i in range(1,len(new_keys)):\n",
    "                    if i == len(new_keys)-1:\n",
    "                        break\n",
    "                    #assign the subsequent keys as list to the current key\n",
    "                    output_dict[new_keys[i]] = new_keys[i+1:]                                 \n",
    "                \n",
    "                \n",
    "    travers_dict(input_dict)\n",
    "    \n",
    "    return output_dict\n",
    "\n",
    "           \n",
    "input_dict = {\"abc\":{\"def\":{\"ghi\":{\"jkl\":{\"mno\":{\"pqr\":{\"stu\":{\"vwx\":{\"yz\":\"you are finally here !!!\"}}}}}}}}}\n",
    "\n",
    "print(generate_new_dict(input_dict))"
   ]
  },
  {
   "cell_type": "code",
   "execution_count": null,
   "metadata": {},
   "outputs": [],
   "source": []
  },
  {
   "cell_type": "markdown",
   "metadata": {},
   "source": [
    "### Question - 2"
   ]
  },
  {
   "cell_type": "code",
   "execution_count": 12,
   "metadata": {},
   "outputs": [
    {
     "name": "stdout",
     "output_type": "stream",
     "text": [
      " Largest distance for placed horses is  3\n"
     ]
    }
   ],
   "source": [
    "#define a function for largest distance \n",
    "def max_disance_horse_can_place(stalls,distance,horses): # here we assign stalls ,distance and no.of horses\n",
    "    count=1\n",
    "    last_position=stalls[0]  # starting stalls from indexing 0\n",
    "    \n",
    "    for i in range(1,len(stalls)):\n",
    "        if stalls[i] - last_position >= distance:\n",
    "            count += 1\n",
    "            last_position = stalls[i]\n",
    "            \n",
    "    return count >= horses\n",
    "#here we can measure the distance for placing horses\n",
    "def max_min_distance(stalls,horses):\n",
    "    stalls.sort()\n",
    "    \n",
    "    start= 0\n",
    "    end = stalls[-1] - stalls[0]\n",
    "    \n",
    "    result = -1 \n",
    "    # using whle loop for count the mid point \n",
    "    while start <= end:\n",
    "        mid = start + (end - start )//2 # here is the formula for mid point\n",
    "        \n",
    "        if max_disance_horse_can_place(stalls,mid,horses):\n",
    "            result = mid \n",
    "            start = mid +1\n",
    "            \n",
    "        else:\n",
    "            end = mid - 1\n",
    "            \n",
    "    return result \n",
    "\n",
    "stalls=[1,2,4,8,9]\n",
    "\n",
    "horses = 3\n",
    "\n",
    "print(\" Largest distance for placed horses is \",max_min_distance(stalls,horses))"
   ]
  },
  {
   "cell_type": "markdown",
   "metadata": {},
   "source": [
    "### Question - 3"
   ]
  },
  {
   "cell_type": "code",
   "execution_count": 3,
   "metadata": {},
   "outputs": [
    {
     "name": "stdout",
     "output_type": "stream",
     "text": [
      "_________.|._________\n",
      "______.|..|..|.______\n",
      "___.|..|..|..|..|.___\n",
      "_______WELCOME_______\n",
      "___.|..|..|..|..|.___\n",
      "______.|..|..|.______\n",
      "_________.|._________\n",
      "None\n"
     ]
    }
   ],
   "source": [
    "# define a function for new door mat\n",
    "def new_door_mat(N, M):\n",
    "    # pattern for the top part of the door mat\n",
    "    for i in range(1,N,2):\n",
    "        print(('.|.' * i).center(M,'_'))\n",
    "        \n",
    "    #printing the welcome message in center\n",
    "    print(\"WELCOME\".center(M, '_'))\n",
    "    \n",
    "    #pattern for the bottom part of the door mat\n",
    "    \n",
    "    for i in range(N-2,-1,-2):\n",
    "        print(('.|.' * i).center(M,'_'))\n",
    "        \n",
    "# input for the door mat\n",
    "N, M = map(int,input().split())\n",
    "\n",
    "# check whether N is odd natural number and M is 3 times of N\n",
    "if N % 2 != 0 and M == 3*N :\n",
    "    print(new_door_mat(N, M))\n",
    "    \n",
    "else:\n",
    "    print(\"INvalid input plz enter odd natural number and M should 3 times of N\")\n",
    "    \n",
    "        "
   ]
  },
  {
   "cell_type": "markdown",
   "metadata": {},
   "source": [
    "### Question - 4"
   ]
  },
  {
   "cell_type": "code",
   "execution_count": 5,
   "metadata": {},
   "outputs": [
    {
     "name": "stdout",
     "output_type": "stream",
     "text": [
      "[[-2, -1, 1, 2], [-2, 0, 0, 2], [-1, 0, 0, 1]]\n"
     ]
    }
   ],
   "source": [
    "# define function to find out quadruplates\n",
    "\n",
    "def Find_quadruplates(nums,target):\n",
    "    # sort the array to easily skip duplicates and optimize algorithms \n",
    "    nums.sort()\n",
    "    n=len(nums)\n",
    "    quadruplates=[]\n",
    "    \n",
    "    # iterating through the array considering each elemet as the first elemnt\n",
    "    \n",
    "    for i in range(n - 3):\n",
    "        # skip duplicates\n",
    "        if i > 0 and nums[i] == nums[i - 1]:\n",
    "            continue\n",
    "        \n",
    "        #fix the forst element and move to the second element\n",
    "        \n",
    "        for j in range(i + 1,n -2):\n",
    "            #skip duplicates\n",
    "            \n",
    "            if j > i +1  and nums[j] == nums[j -1 ]:\n",
    "                continue\n",
    "            #initialize two pointers at boyth end of the point\n",
    "            left= j + 1\n",
    "            right= n - 1\n",
    "            \n",
    "            # Two sum problem inside\n",
    "            \n",
    "            while left < right :\n",
    "                current_sum=nums[i] + nums[j] + nums[left] + nums[right]\n",
    "                \n",
    "                if current_sum== target:\n",
    "                    quadruplates.append([nums[i],nums[j],nums[left],nums[right]]) \n",
    "                    \n",
    "                    #skip duplicates\n",
    "                    while left < right and nums[left]==nums[left+ 1]:\n",
    "                        left += 1\n",
    "                        \n",
    "                    while left < right and nums[right ]==nums[right - 1] :\n",
    "                        right -= 1\n",
    "                        \n",
    "                    left += 1\n",
    "                    right -= 1\n",
    "                    \n",
    "                elif current_sum < target:\n",
    "                    left += 1\n",
    "                    \n",
    "                else:\n",
    "                    right -= 1\n",
    "                    \n",
    "    return quadruplates\n",
    "\n",
    "nums=[1,0,-1,0,-2,2]\n",
    "target=0\n",
    "     \n",
    "print(Find_quadruplates(nums,target))"
   ]
  },
  {
   "cell_type": "code",
   "execution_count": null,
   "metadata": {},
   "outputs": [],
   "source": []
  }
 ],
 "metadata": {
  "kernelspec": {
   "display_name": "debu",
   "language": "python",
   "name": "python3"
  },
  "language_info": {
   "codemirror_mode": {
    "name": "ipython",
    "version": 3
   },
   "file_extension": ".py",
   "mimetype": "text/x-python",
   "name": "python",
   "nbconvert_exporter": "python",
   "pygments_lexer": "ipython3",
   "version": "3.9.17"
  }
 },
 "nbformat": 4,
 "nbformat_minor": 2
}
